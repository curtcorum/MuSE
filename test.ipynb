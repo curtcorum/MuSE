{
 "cells": [
  {
   "cell_type": "markdown",
   "id": "a769697b-d89e-4da2-955b-256ca604ad11",
   "metadata": {},
   "source": [
    "## [Multi-Scale Energy (MuSE) Framework for Inverse Problems in Imaging](https://ieeexplore.ieee.org/stamp/stamp.jsp?arnumber=10645311)\n",
    "Jyothi Rikhab Chand, Mathews Jacob"
   ]
  },
  {
   "cell_type": "markdown",
   "id": "cb976c58-350a-4e70-b3db-d4dfde78b8f6",
   "metadata": {},
   "source": [
    "# Goal of this notebook:\n",
    "\n",
    "To use the pre-trained energy model for reconstructing images from the undersampled k-space data"
   ]
  },
  {
   "cell_type": "code",
   "execution_count": null,
   "id": "424776c5-1e56-4372-a944-bfcbf4d3b147",
   "metadata": {
    "tags": []
   },
   "outputs": [],
   "source": [
    "# Preliminaries\n",
    "import matplotlib.pyplot as plt\n",
    "import numpy as np\n",
    "from skimage.metrics import peak_signal_noise_ratio, structural_similarity\n",
    "import torch\n",
    "from skimage.metrics import peak_signal_noise_ratio, structural_similarity\n",
    "device = torch.device(\"cuda:0\" if torch.cuda.is_available() else \"cpu\")\n",
    "import os\n",
    "os.environ[\"CUBLAS_WORKSPACE_CONFIG\"]=\":4096:8\"\n",
    "\n",
    "#Load dataset\n",
    "from data_builder import DataGenBrain\n",
    "\n",
    "#Load save model script\n",
    "from saveModels import saveHelper\n",
    "\n",
    "#Load energy model script\n",
    "from energy_model import *\n",
    "from network_unet import UNetRes\n",
    "\n",
    "\n",
    "\n",
    "# To import the accelerated MM algorithm\n",
    "from utils import MM\n",
    "#To import the MRI forward operator\n",
    "from sense_new import sense_v1\n",
    "\n",
    "\n",
    "\n",
    "\n",
    "torch.cuda.empty_cache()"
   ]
  },
  {
   "cell_type": "markdown",
   "id": "13718b9e-303f-413d-ae80-2fc9a8ccbd94",
   "metadata": {},
   "source": [
    "## Load Test Settings"
   ]
  },
  {
   "cell_type": "code",
   "execution_count": null,
   "id": "753a5353-b33b-4437-81c1-4d357be91e3c",
   "metadata": {},
   "outputs": [],
   "source": [
    "import json\n",
    "gpu = torch.device('cuda')\n",
    "load_test_setting = open(\"settings.json\")\n",
    "ts=json.load(load_test_setting)\n",
    "beta = ts[\"beta\"]\n",
    "L = ts[\"L\"]\n",
    "inference_std = ts[\"inference_std\"]\n",
    "threshold = ts[\"threshold\"]\n",
    "max_iter = ts[\"max_iter\"]\n",
    "const = 2*(inference_std**2)\n",
    "A = sense_v1(10)\n"
   ]
  },
  {
   "cell_type": "markdown",
   "id": "f6256e8e-e2d5-41d4-a5d0-c3c117e6adf7",
   "metadata": {},
   "source": [
    "## Load Dataset"
   ]
  },
  {
   "cell_type": "code",
   "execution_count": null,
   "id": "7abbce6a-fa0d-4b20-8541-08a913917188",
   "metadata": {
    "tags": []
   },
   "outputs": [],
   "source": [
    "data_set=DataGenBrain(start_sub = ts[\"startSubj\"], num_sub = ts[\"endSubj\"],device = device, acc = ts[\"acc\"])"
   ]
  },
  {
   "cell_type": "markdown",
   "id": "7e4d6d0b-8302-4e6f-b4ba-486ad3dfd388",
   "metadata": {},
   "source": [
    "## Load pre-trained energy model"
   ]
  },
  {
   "cell_type": "code",
   "execution_count": null,
   "id": "db97b333-be31-4b2a-86fb-3772111d2769",
   "metadata": {
    "scrolled": true
   },
   "outputs": [],
   "source": [
    "net = UNetRes(in_nc=ts[\"input_channel\"], out_nc = ts[\"output_channel\"],nc = [ts[\"ch0\"],ts[\"ch1\"], ts[\"ch2\"], ts[\"ch3\"]])\n",
    "net = net.to(device)\n",
    "energy_net = EBM(net)\n",
    "fname = \"Models/\"\n",
    "energy_net.load_state_dict(torch.load(fname+\"net100.pt\"))\n",
    "energy_net.eval()"
   ]
  },
  {
   "cell_type": "markdown",
   "id": "0c8bc8f2-9dc2-4314-b627-ace95acc2854",
   "metadata": {},
   "source": [
    "## Inference on the example data"
   ]
  },
  {
   "cell_type": "code",
   "execution_count": null,
   "id": "0941459b-db59-46fa-9382-1b11bf9b9c2f",
   "metadata": {
    "tags": []
   },
   "outputs": [],
   "source": [
    "total_sl = [10]\n",
    "\n",
    "prediction_MuSE = np.zeros([10,320,320],dtype=np.float32)\n",
    "prediction_sense = np.zeros([10,320,320],dtype=np.float32)\n",
    "target = np.zeros([10,320,320],dtype=np.float32)\n",
    "\n",
    "\n",
    "psnri_MuSE = np.zeros(total_sl,)\n",
    "psnri_sense = np.zeros(total_sl,)\n",
    "\n",
    "ssimi_MuSE = np.zeros(total_sl,)\n",
    "ssimi_sense = np.zeros(total_sl,)\n",
    "\n",
    "\n",
    "\n",
    "\n",
    "\n",
    "\n",
    "\n",
    "for slc in range(len(data_set)):\n",
    "    tstOrg,b,tstCsm,tstMask,idx = data_set[slc]\n",
    "    tstOrg = tstOrg.type(torch.complex64)\n",
    "    tstOrg = tstOrg.to(device) \n",
    "    Atb = A.adjoint(b, tstCsm)\n",
    "    x_tilde = A.sense_sol(Atb,Atb,100,tstCsm,tstMask)\n",
    "    x_init = x_tilde\n",
    "    x_mm = MM(x_init, energy_net,A,b,tstOrg,tstCsm,tstMask,Atb,inference_std,1,L,beta,max_iter,threshold)\n",
    "    \n",
    "    prediction_MuSE[slc] = np.squeeze(torch.abs(x_mm).detach().cpu().numpy())\n",
    "    prediction_sense[slc] = np.squeeze(torch.abs(x_tilde).detach().cpu().numpy())\n",
    "    target[slc] = np.squeeze(torch.abs(tstOrg).detach().cpu().numpy())\n",
    "    psnri_MuSE[slc] = peak_signal_noise_ratio(target[slc], prediction_MuSE[slc], data_range=target[slc].max()) \n",
    "    ssimi_MuSE[slc] = structural_similarity(target[slc], prediction_MuSE[slc])\n",
    "    psnri_sense[slc] = peak_signal_noise_ratio(target[slc], prediction_sense[slc], data_range=target[slc].max()) \n",
    "    ssimi_sense[slc] = structural_similarity(target[slc], prediction_sense[slc])\n",
    "    \n"
   ]
  },
  {
   "cell_type": "markdown",
   "id": "c4b51924-a904-4c26-9fa4-39a289d108e3",
   "metadata": {},
   "source": [
    "## Computating Avg. PSNR (dB) & SSIM"
   ]
  },
  {
   "cell_type": "code",
   "execution_count": null,
   "id": "809cefda-69ef-4855-9e3f-ab952c54a58b",
   "metadata": {
    "tags": []
   },
   "outputs": [],
   "source": [
    "avg_psnr_MuSE = np.mean(psnri_MuSE)\n",
    "avg_ssim_MuSE = np.mean(ssimi_MuSE)\n",
    "avg_psnr_sense = np.mean(psnri_sense)\n",
    "avg_ssim_sense = np.mean(ssimi_sense)\n",
    "print(f'Avg PSNR (MuSE): {avg_psnr_MuSE:.3f} dB')\n",
    "print(f'Avg PSNR (SENSE): {avg_psnr_sense:.3f} dB')\n",
    "print(f'Avg SSIM (MuSE): {avg_ssim_MuSE:.3f}')\n",
    "print(f'Avg SSIM (SENSE): {avg_ssim_sense:.3f}')"
   ]
  },
  {
   "cell_type": "markdown",
   "id": "7df5fae4-18ca-41d8-891e-e7e15d59325b",
   "metadata": {},
   "source": [
    "## Display Reconstructions"
   ]
  },
  {
   "cell_type": "code",
   "execution_count": null,
   "id": "8ee3ad62-4f96-48e3-8830-c9567e513834",
   "metadata": {},
   "outputs": [],
   "source": [
    "plt.rcParams.update({'font.size': 18})\n",
    "index = 7\n",
    "error_imgs_MuSE= np.abs(target[index] - prediction_MuSE[index])\n",
    "error_imgs_sense= np.abs(target[index] - prediction_sense[index])\n",
    "\n",
    "plt.figure(figsize=(15,9))\n",
    "plt.subplot(231)\n",
    "plt.imshow(target[index],plt.cm.gray,vmax=0.5)\n",
    "plt.title('Org')\n",
    "plt.axis('off')\n",
    "\n",
    "plt.subplot(232)\n",
    "plt.imshow(prediction_sense[index],plt.cm.gray,vmax=0.5)\n",
    "plt.title(f'SENSE, PSNR={psnri_sense[index]:.2f} dB\\nSSIM={ssimi_sense[index]:.2f}')\n",
    "plt.axis('off')\n",
    "\n",
    "plt.subplot(233)\n",
    "plt.imshow(prediction_MuSE[index],plt.cm.gray,vmax=0.5)\n",
    "plt.title(f'MuSE, PSNR={psnri_MuSE[index]:.2f} dB\\nSSIM={ssimi_MuSE[index]:.2f}')\n",
    "plt.axis('off')\n",
    "\n",
    "plt.subplot(235)\n",
    "plt.imshow(error_imgs_sense,vmax=0.05)\n",
    "plt.title('Error')\n",
    "plt.axis('off')\n",
    "\n",
    "plt.subplot(236)\n",
    "plt.imshow(error_imgs_MuSE,vmax=0.05)\n",
    "plt.title('Error')\n",
    "plt.axis('off')"
   ]
  }
 ],
 "metadata": {
  "kernelspec": {
   "display_name": "Python 3 (ipykernel)",
   "language": "python",
   "name": "python3"
  },
  "language_info": {
   "codemirror_mode": {
    "name": "ipython",
    "version": 3
   },
   "file_extension": ".py",
   "mimetype": "text/x-python",
   "name": "python",
   "nbconvert_exporter": "python",
   "pygments_lexer": "ipython3",
   "version": "3.9.19"
  }
 },
 "nbformat": 4,
 "nbformat_minor": 5
}
